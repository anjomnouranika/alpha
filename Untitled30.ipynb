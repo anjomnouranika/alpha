{
  "nbformat": 4,
  "nbformat_minor": 0,
  "metadata": {
    "colab": {
      "name": "Untitled30.ipynb",
      "provenance": [],
      "collapsed_sections": [],
      "authorship_tag": "ABX9TyNiBkghhCzk4Nbn+hc7OcOy",
      "include_colab_link": true
    },
    "kernelspec": {
      "name": "python3",
      "display_name": "Python 3"
    }
  },
  "cells": [
    {
      "cell_type": "markdown",
      "metadata": {
        "id": "view-in-github",
        "colab_type": "text"
      },
      "source": [
        "<a href=\"https://colab.research.google.com/github/anjomnouranika/alpha/blob/master/Untitled30.ipynb\" target=\"_parent\"><img src=\"https://colab.research.google.com/assets/colab-badge.svg\" alt=\"Open In Colab\"/></a>"
      ]
    },
    {
      "cell_type": "code",
      "metadata": {
        "id": "xMZdVbLlgbLE",
        "colab_type": "code",
        "colab": {
          "base_uri": "https://localhost:8080/",
          "height": 51
        },
        "outputId": "7169c9f6-bd12-4729-f6ba-91de7374a41d"
      },
      "source": [
        "print(\"Alphabets from a - z are : \")\n",
        "\n",
        "# a = 97 and z = 122\n",
        "for alpha in range(97, 123):\n",
        "    print(chr(alpha), end=\" \")\n"
      ],
      "execution_count": 8,
      "outputs": [
        {
          "output_type": "stream",
          "text": [
            "Alphabets from a - z are : \n",
            "a b c d e f g h i j k l m n o p q r s t u v w x y z "
          ],
          "name": "stdout"
        }
      ]
    }
  ]
}